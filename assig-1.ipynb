{
 "cells": [
  {
   "cell_type": "code",
   "execution_count": 23,
   "metadata": {},
   "outputs": [
    {
     "name": "stdout",
     "output_type": "stream",
     "text": [
      " pl enter your first namedhruv\n",
      "pl enter your last namejhala\n",
      "                      jhala                        dhruv\n"
     ]
    }
   ],
   "source": [
    "a=input(\" pl enter your first name\")\n",
    "b=input(\"pl enter your last name\")\n",
    "\n",
    "print (b.center(50),a)"
   ]
  },
  {
   "cell_type": "code",
   "execution_count": 14,
   "metadata": {},
   "outputs": [
    {
     "name": "stdout",
     "output_type": "stream",
     "text": [
      "904.3199999999999\n"
     ]
    }
   ],
   "source": [
    "v=(4/3)*(3.14)*(6**3)\n",
    "print(v)\n"
   ]
  },
  {
   "cell_type": "code",
   "execution_count": 12,
   "metadata": {},
   "outputs": [
    {
     "ename": "IndentationError",
     "evalue": "unexpected indent (<ipython-input-12-898bf8a48abc>, line 3)",
     "output_type": "error",
     "traceback": [
      "\u001b[1;36m  File \u001b[1;32m\"<ipython-input-12-898bf8a48abc>\"\u001b[1;36m, line \u001b[1;32m3\u001b[0m\n\u001b[1;33m    for e in c:\u001b[0m\n\u001b[1;37m    ^\u001b[0m\n\u001b[1;31mIndentationError\u001b[0m\u001b[1;31m:\u001b[0m unexpected indent\n"
     ]
    }
   ],
   "source": [
    "c=(2000,3200)\n",
    "d=[]\n",
    " for e in c:\n",
    "        if (c/7== 0)\n",
    "        d.append(c)\n",
    "        c+1\n",
    "        else\n",
    "        c+1\n",
    "        print(d)"
   ]
  },
  {
   "cell_type": "code",
   "execution_count": 13,
   "metadata": {},
   "outputs": [
    {
     "name": "stdout",
     "output_type": "stream",
     "text": [
      "enter the number in int formate with ,1,2,3,4,5,6,7\n",
      "['1,2,3,4,5,6,7']\n"
     ]
    }
   ],
   "source": [
    "f=input(\"enter the number in int formate with ,\")\n",
    "g=[f]\n",
    "print(g)"
   ]
  },
  {
   "cell_type": "code",
   "execution_count": 38,
   "metadata": {},
   "outputs": [
    {
     "name": "stdout",
     "output_type": "stream",
     "text": [
      "dhruv\n",
      "['v', 'u', 'r', 'h', 'd']\n"
     ]
    },
    {
     "data": {
      "text/plain": [
       "list"
      ]
     },
     "execution_count": 38,
     "metadata": {},
     "output_type": "execute_result"
    }
   ],
   "source": [
    "h=[]\n",
    "i= input()\n",
    "i=i[::-1]\n",
    "for j in i:\n",
    "    h.append(j[::-1])\n",
    "print(str(h))\n"
   ]
  },
  {
   "cell_type": "code",
   "execution_count": 27,
   "metadata": {},
   "outputs": [
    {
     "data": {
      "text/plain": [
       "['v', 'u', 'r', 'h', 'd']"
      ]
     },
     "execution_count": 27,
     "metadata": {},
     "output_type": "execute_result"
    }
   ],
   "source": []
  },
  {
   "cell_type": "code",
   "execution_count": null,
   "metadata": {},
   "outputs": [],
   "source": []
  }
 ],
 "metadata": {
  "kernelspec": {
   "display_name": "Python 3",
   "language": "python",
   "name": "python3"
  },
  "language_info": {
   "codemirror_mode": {
    "name": "ipython",
    "version": 3
   },
   "file_extension": ".py",
   "mimetype": "text/x-python",
   "name": "python",
   "nbconvert_exporter": "python",
   "pygments_lexer": "ipython3",
   "version": "3.7.6"
  }
 },
 "nbformat": 4,
 "nbformat_minor": 4
}
